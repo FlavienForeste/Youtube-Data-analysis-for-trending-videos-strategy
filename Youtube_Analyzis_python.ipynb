{
 "cells": [
  {
   "cell_type": "markdown",
   "id": "9c0e32b1",
   "metadata": {},
   "source": [
    "# Introduction\n",
    "\n",
    "according to Youtube, the criteria for 'trending video' is \n",
    "1) View count\n",
    "2) Rate of increase in views (i.e., “momentum” or “temperature”)\n",
    "3) Sources that generate views, including external sources outside of YouTube\n",
    "4) Video upload date\n",
    "\n",
    "with the data that we have, we can figure out what factors might influence 1) View count\n",
    "\n",
    "I divided this analysis into 4 different steps ;\n",
    "\n",
    "#### Subtopic 1: The Impact of Category and Channel on Views\n",
    "In this subtopic, the analysis focused on understanding how category and channel influence view counts. By calculating the average views, likes, dislikes, and comment counts across different categories, it was found that certain genres, like Comedy, tend to attract higher views. This indicates that specific content types or genres can play a significant role in boosting viewership.\n",
    "#### Subtopic 2: The Effect of Title Length, Description Length, and Tag Count\n",
    "This section explored how title length, description length, and tag count impact view counts. Through simple and multiple regression analysis, it was observed that description length and tag count have a slight positive effect on views, while title length has almost no impact. However, the overall explanatory power of these variables was limited, suggesting that these elements alone are insufficient to explain variations in view counts.\n",
    "#### Subtopic 3: Time Until a Video Becomes Trending\n",
    "Here, the analysis examined the relationship between the time it takes for a video to trend and its view count. A weak positive correlation was identified, indicating that videos that trend quickly tend to have higher views. However, this relationship is not strong, suggesting that factors beyond trending speed are more influential in driving viewership.\n",
    "#### Subtopic 4: Correlation Analysis of Variables\n",
    "The final subtopic involved conducting an overall correlation analysis to identify which variables are most strongly associated with view counts. Likes, dislikes, and comment count showed relatively strong correlations with views, particularly likes and dislikes, which emerged as major influencing factors. In contrast, variables like tag_count, title_length, and description_length exhibited low correlations with views, indicating that they have a minimal effect on viewership."
   ]
  },
  {
   "cell_type": "code",
   "execution_count": 3,
   "id": "df3759ff",
   "metadata": {},
   "outputs": [],
   "source": [
    "import pandas as pd "
   ]
  },
  {
   "cell_type": "code",
   "execution_count": null,
   "id": "77af7a04",
   "metadata": {},
   "outputs": [],
   "source": []
  },
  {
   "cell_type": "code",
   "execution_count": 4,
   "id": "ccab657f",
   "metadata": {},
   "outputs": [],
   "source": [
    "with open(\"/Users/jeonjj/Document/UIUC/archive/KRvideos.csv\", \"rt\", encoding=\"utf8\",errors='ignore') as f:\n",
    "    youtube_kr = pd.read_csv(f)\n",
    "\n",
    "### because Jupyter notebook cannot correctly read Korean character, I used 'with' phrase and more modifications\n",
    "### if you guys working on english-only files, then you can just use \"pd.read_csv()\"\n",
    "### OTHERWISE, just ask CHAT GPT if some other problems happens"
   ]
  },
  {
   "cell_type": "code",
   "execution_count": 5,
   "id": "c9d511e1",
   "metadata": {},
   "outputs": [],
   "source": [
    "import pandas as pd\n",
    "import numpy as np\n",
    "import seaborn as sns\n",
    "import matplotlib.pyplot as plt\n",
    "import matplotlib as mpl\n",
    "import os\n",
    "from subprocess import check_output\n",
    "from wordcloud import WordCloud, STOPWORDS "
   ]
  },
  {
   "cell_type": "code",
   "execution_count": null,
   "id": "3d07d141",
   "metadata": {},
   "outputs": [],
   "source": []
  },
  {
   "cell_type": "code",
   "execution_count": 6,
   "id": "38bd0946",
   "metadata": {},
   "outputs": [
    {
     "data": {
      "text/plain": [
       "0        2017-11-13T07:07:36.000Z\n",
       "1        2017-11-13T10:59:16.000Z\n",
       "2        2017-11-11T07:16:08.000Z\n",
       "3        2017-11-12T11:19:52.000Z\n",
       "4        2017-11-13T11:08:59.000Z\n",
       "                   ...           \n",
       "34562    2018-06-10T23:00:01.000Z\n",
       "34563    2018-06-12T07:00:06.000Z\n",
       "34564    2018-06-12T13:17:29.000Z\n",
       "34565    2018-06-11T11:57:20.000Z\n",
       "34566    2018-06-10T20:00:01.000Z\n",
       "Name: publish_time, Length: 34567, dtype: object"
      ]
     },
     "execution_count": 6,
     "metadata": {},
     "output_type": "execute_result"
    }
   ],
   "source": [
    "youtube_kr['publish_time']"
   ]
  },
  {
   "cell_type": "markdown",
   "id": "d1086cec",
   "metadata": {},
   "source": [
    "# 0. Preprocessing"
   ]
  },
  {
   "cell_type": "code",
   "execution_count": 7,
   "id": "76853a48",
   "metadata": {},
   "outputs": [
    {
     "name": "stdout",
     "output_type": "stream",
     "text": [
      "<class 'pandas.core.frame.DataFrame'>\n",
      "RangeIndex: 34567 entries, 0 to 34566\n",
      "Data columns (total 16 columns):\n",
      " #   Column                  Non-Null Count  Dtype \n",
      "---  ------                  --------------  ----- \n",
      " 0   video_id                34567 non-null  object\n",
      " 1   trending_date           34567 non-null  object\n",
      " 2   title                   34567 non-null  object\n",
      " 3   channel_title           34567 non-null  object\n",
      " 4   category_id             34567 non-null  int64 \n",
      " 5   publish_time            34567 non-null  object\n",
      " 6   tags                    34567 non-null  object\n",
      " 7   views                   34567 non-null  int64 \n",
      " 8   likes                   34567 non-null  int64 \n",
      " 9   dislikes                34567 non-null  int64 \n",
      " 10  comment_count           34567 non-null  int64 \n",
      " 11  thumbnail_link          34567 non-null  object\n",
      " 12  comments_disabled       34567 non-null  bool  \n",
      " 13  ratings_disabled        34567 non-null  bool  \n",
      " 14  video_error_or_removed  34567 non-null  bool  \n",
      " 15  description             31404 non-null  object\n",
      "dtypes: bool(3), int64(5), object(8)\n",
      "memory usage: 3.5+ MB\n"
     ]
    }
   ],
   "source": [
    "youtube_kr.info()"
   ]
  },
  {
   "cell_type": "markdown",
   "id": "d01d1055",
   "metadata": {},
   "source": [
    "#### 34,567 data, and there are N/A in description"
   ]
  },
  {
   "cell_type": "markdown",
   "id": "9cf09a26",
   "metadata": {},
   "source": [
    "## 0.1 select columns that we want to see"
   ]
  },
  {
   "cell_type": "code",
   "execution_count": 8,
   "id": "e370afe2",
   "metadata": {},
   "outputs": [],
   "source": [
    "df = youtube_kr[:]\n",
    "\n",
    "\n",
    "# delete columns that we don't use for this analysis\n",
    "for col in [\"thumbnail_link\", \"comments_disabled\", \"ratings_disabled\", \"video_error_or_removed\"]:\n",
    "    del df[col] "
   ]
  },
  {
   "cell_type": "code",
   "execution_count": null,
   "id": "cbf1d4a2",
   "metadata": {},
   "outputs": [],
   "source": []
  },
  {
   "cell_type": "markdown",
   "id": "8f530964",
   "metadata": {},
   "source": [
    "## 0.2 check whether 'video_id' can be a index (primary key)"
   ]
  },
  {
   "cell_type": "code",
   "execution_count": 9,
   "id": "c24decb6",
   "metadata": {},
   "outputs": [
    {
     "data": {
      "text/plain": [
       "video_id\n",
       "True     18691\n",
       "False    15876\n",
       "Name: count, dtype: int64"
      ]
     },
     "execution_count": 9,
     "metadata": {},
     "output_type": "execute_result"
    }
   ],
   "source": [
    "df[\"video_id\"].duplicated().value_counts()"
   ]
  },
  {
   "cell_type": "markdown",
   "id": "3ff8e76a",
   "metadata": {},
   "source": [
    "#### If a video became a trending video on multiple dates, data was recorded for each date. For this analysis, we will only use data from the first time a video became trending during the specified period. Remove duplicate video_ids"
   ]
  },
  {
   "cell_type": "code",
   "execution_count": 10,
   "id": "f828274a",
   "metadata": {},
   "outputs": [
    {
     "data": {
      "text/plain": [
       "video_id\n",
       "False    15876\n",
       "Name: count, dtype: int64"
      ]
     },
     "execution_count": 10,
     "metadata": {},
     "output_type": "execute_result"
    }
   ],
   "source": [
    "df = df.drop_duplicates([\"video_id\"])[:]\n",
    "\n",
    "df[\"video_id\"].duplicated().value_counts()"
   ]
  },
  {
   "cell_type": "code",
   "execution_count": null,
   "id": "7e312540",
   "metadata": {},
   "outputs": [],
   "source": []
  },
  {
   "cell_type": "markdown",
   "id": "8b8033ae",
   "metadata": {},
   "source": [
    "## 0.3 using 'category_id' and JSON file, create 'category' column"
   ]
  },
  {
   "cell_type": "code",
   "execution_count": 11,
   "id": "13c077d2",
   "metadata": {},
   "outputs": [],
   "source": [
    "import json  \n",
    "\n",
    "id_to_category = {}\n",
    "\n",
    "with open(\"/Users/jeonjj/Document/UIUC/archive/KR_category_id.json\",\"r\") as f:\n",
    "    id_data = json.load(f)\n",
    "    for category in id_data[\"items\"]:\n",
    "        id_to_category[category[\"id\"]] = category[\"snippet\"][\"title\"]\n",
    "\n",
    "# id_to_category\n",
    "\n",
    "df[\"category_id\"] = df[\"category_id\"].astype(str)\n",
    "df.insert(4, \"category\", df[\"category_id\"].map(id_to_category))"
   ]
  },
  {
   "cell_type": "code",
   "execution_count": 12,
   "id": "b01ec216",
   "metadata": {},
   "outputs": [
    {
     "data": {
      "text/plain": [
       "video_id            0\n",
       "trending_date       0\n",
       "title               0\n",
       "channel_title       0\n",
       "category          119\n",
       "category_id         0\n",
       "publish_time        0\n",
       "tags                0\n",
       "views               0\n",
       "likes               0\n",
       "dislikes            0\n",
       "comment_count       0\n",
       "description      1602\n",
       "dtype: int64"
      ]
     },
     "execution_count": 12,
     "metadata": {},
     "output_type": "execute_result"
    }
   ],
   "source": [
    "df.isnull().sum()"
   ]
  },
  {
   "cell_type": "markdown",
   "id": "4cd7d9a6",
   "metadata": {},
   "source": [
    "#### There are N/A values in category columns"
   ]
  },
  {
   "cell_type": "code",
   "execution_count": 13,
   "id": "92993597",
   "metadata": {},
   "outputs": [
    {
     "data": {
      "text/plain": [
       "category_id\n",
       "29    119\n",
       "Name: count, dtype: int64"
      ]
     },
     "execution_count": 13,
     "metadata": {},
     "output_type": "execute_result"
    }
   ],
   "source": [
    "# to figure out at where in JSON N/A values are\n",
    "\n",
    "df[\"category_id\"].loc[df[\"category\"].isnull() == True].value_counts()"
   ]
  },
  {
   "cell_type": "markdown",
   "id": "b5f7f374",
   "metadata": {},
   "source": [
    "#### Result above means category_id 29 has no category value\n",
    "#### if you search on Youtube manually, you can find it was about Nonprofits&Activism"
   ]
  },
  {
   "cell_type": "code",
   "execution_count": 14,
   "id": "3a46ac71",
   "metadata": {},
   "outputs": [],
   "source": [
    "# fill missing value with 'nonprofits & activism'\n",
    "\n",
    "df.loc[df[\"category\"].isnull(), \"category\"] = \"Nonprofits & Activism\"\n"
   ]
  },
  {
   "cell_type": "code",
   "execution_count": null,
   "id": "601e9598",
   "metadata": {},
   "outputs": [],
   "source": []
  },
  {
   "cell_type": "code",
   "execution_count": null,
   "id": "b6afcf1c",
   "metadata": {},
   "outputs": [],
   "source": []
  },
  {
   "cell_type": "markdown",
   "id": "fea66934",
   "metadata": {},
   "source": [
    "## 0.4 Transform trending_date & publish_time data to datetime"
   ]
  },
  {
   "cell_type": "code",
   "execution_count": 15,
   "id": "7cb824f7",
   "metadata": {},
   "outputs": [],
   "source": [
    "youtube_kr[\"trending_date\"] = pd.to_datetime(youtube_kr[\"trending_date\"], format = \"%y.%d.%m\")\n",
    "\n",
    "df[\"trending_date\"] = pd.to_datetime(df[\"trending_date\"], format = \"%y.%d.%m\")\n",
    "\n",
    "df[\"publish_time\"] = pd.to_datetime(df[\"publish_time\"])\n",
    "df[\"publish_time\"] = df[\"publish_time\"].apply(lambda x : x.date())\n",
    "df[\"publish_time\"] = pd.to_datetime(df[\"publish_time\"])"
   ]
  },
  {
   "cell_type": "code",
   "execution_count": null,
   "id": "5ce13dba",
   "metadata": {},
   "outputs": [],
   "source": []
  },
  {
   "cell_type": "markdown",
   "id": "5f5a7b5f",
   "metadata": {},
   "source": [
    "## 0.5 making 'tag_count' column"
   ]
  },
  {
   "cell_type": "code",
   "execution_count": 16,
   "id": "02b36fcd",
   "metadata": {},
   "outputs": [],
   "source": [
    "df[\"tag_count\"] = df[\"tags\"].apply(lambda x : len(x.split(\"|\")) if x != \"[none]\" else 0)"
   ]
  },
  {
   "cell_type": "code",
   "execution_count": null,
   "id": "bbac37b1",
   "metadata": {},
   "outputs": [],
   "source": []
  },
  {
   "cell_type": "markdown",
   "id": "2c06c749",
   "metadata": {},
   "source": [
    "## 0.6 Ratio (likes/views, dislikes/views, comment_count/views, dislikes/likes)"
   ]
  },
  {
   "cell_type": "code",
   "execution_count": 17,
   "id": "c702e099",
   "metadata": {},
   "outputs": [],
   "source": [
    "df[\"likes/views\"] = df[\"likes\"] / df[\"views\"]\n",
    "df[\"dislikes/views\"] = df[\"dislikes\"] / df[\"views\"]\n",
    "df[\"comment_count/views\"] = df[\"comment_count\"] / df[\"views\"]\n",
    "df[\"dislikes/likes\"] = df[\"dislikes\"] / df[\"likes\"]\n",
    "\n",
    "\n",
    "df.loc[df[\"dislikes/likes\"] == np.inf, \"dislikes/likes\"] = 0\n",
    "df.loc[df[\"dislikes/likes\"].isnull(), \"dislikes/likes\"] = 0\n"
   ]
  },
  {
   "cell_type": "code",
   "execution_count": null,
   "id": "dd274798",
   "metadata": {},
   "outputs": [],
   "source": []
  },
  {
   "cell_type": "markdown",
   "id": "533f8181",
   "metadata": {},
   "source": [
    "## 0.7 making 'title_length' column using the title"
   ]
  },
  {
   "cell_type": "code",
   "execution_count": 18,
   "id": "9a2d56e4",
   "metadata": {},
   "outputs": [],
   "source": [
    "df[\"title_length\"] = df[\"title\"].apply(lambda x : len(str(x)) if pd.isnull(x) == False  else 0 )"
   ]
  },
  {
   "cell_type": "code",
   "execution_count": null,
   "id": "5f17f0ee",
   "metadata": {},
   "outputs": [],
   "source": []
  },
  {
   "cell_type": "markdown",
   "id": "f32dc4b9",
   "metadata": {},
   "source": [
    "## 0.8 making 'description_length' column"
   ]
  },
  {
   "cell_type": "code",
   "execution_count": 19,
   "id": "51dd2c40",
   "metadata": {},
   "outputs": [],
   "source": [
    "df[\"description_length\"] = df[\"description\"].apply(lambda x : len(str(x)) if pd.isnull(x) == False  else 0 )"
   ]
  },
  {
   "cell_type": "code",
   "execution_count": null,
   "id": "b8238e34",
   "metadata": {},
   "outputs": [],
   "source": []
  },
  {
   "cell_type": "markdown",
   "id": "7ca7f5bd",
   "metadata": {},
   "source": [
    "## 0.9 treTime-pubTime : it represents the time elapsed from the video’s publication to when it became a trending video. "
   ]
  },
  {
   "cell_type": "code",
   "execution_count": 20,
   "id": "c0589b4e",
   "metadata": {},
   "outputs": [],
   "source": [
    "from datetime import timedelta\n",
    "\n",
    "\n",
    "df[\"treTime-pubTime\"] = df[\"trending_date\"] - df[\"publish_time\"] + timedelta(days = 1)"
   ]
  },
  {
   "cell_type": "code",
   "execution_count": null,
   "id": "1d688797",
   "metadata": {},
   "outputs": [],
   "source": []
  },
  {
   "cell_type": "markdown",
   "id": "303762af",
   "metadata": {},
   "source": [
    "## 0.10 Manage outlier in views column"
   ]
  },
  {
   "cell_type": "code",
   "execution_count": 21,
   "id": "886cd824",
   "metadata": {},
   "outputs": [
    {
     "data": {
      "text/plain": [
       "<Axes: ylabel='views'>"
      ]
     },
     "execution_count": 21,
     "metadata": {},
     "output_type": "execute_result"
    },
    {
     "data": {
      "image/png": "[encoded data removed]",
      "text/plain": [
       "<Figure size 432x288 with 1 Axes>"
      ]
     },
     "metadata": {
      "needs_background": "light"
     },
     "output_type": "display_data"
    }
   ],
   "source": [
    "sns.boxplot(y=df[\"views\"])\n",
    "\n",
    "\n",
    "### I can say that there are outlier \n",
    "### the reason why boxplot doesn't have 'box' is because of the outlier"
   ]
  },
  {
   "cell_type": "code",
   "execution_count": 22,
   "id": "c1c15cc0",
   "metadata": {},
   "outputs": [],
   "source": [
    "# To delete the outllier, we just see the data between Q1-1.5*IQR ~ Q3+1.5*IQR\n",
    "\n",
    "Q1 = df['views'].quantile(0.25)\n",
    "Q3 = df['views'].quantile(0.75)\n",
    "IQR = Q3 - Q1\n",
    "\n",
    "\n",
    "df = df[(df['views'] >= Q1 - 1.5 * IQR) & (df['views'] <= Q3 + 1.5 * IQR)]"
   ]
  },
  {
   "cell_type": "code",
   "execution_count": 23,
   "id": "3fc4af4f",
   "metadata": {},
   "outputs": [
    {
     "name": "stderr",
     "output_type": "stream",
     "text": [
      "/Library/Frameworks/Python.framework/Versions/3.10/lib/python3.10/site-packages/seaborn/_oldcore.py:1119: FutureWarning: use_inf_as_na option is deprecated and will be removed in a future version. Convert inf values to NaN before operating instead.\n",
      "  with pd.option_context('mode.use_inf_as_na', True):\n"
     ]
    },
    {
     "data": {
      "text/plain": [
       "<Axes: xlabel='views', ylabel='Count'>"
      ]
     },
     "execution_count": 23,
     "metadata": {},
     "output_type": "execute_result"
    },
    {
     "data": {
      "image/png": "[encoded data removed]",
      "text/plain": [
       "<Figure size 432x288 with 1 Axes>"
      ]
     },
     "metadata": {
      "needs_background": "light"
     },
     "output_type": "display_data"
    }
   ],
   "source": [
    "sns.histplot(df['views'], bins=30)\n"
   ]
  },
  {
   "cell_type": "code",
   "execution_count": 23,
   "id": "74c12ae4",
   "metadata": {},
   "outputs": [],
   "source": [
    "df.to_csv(\"/Users/jeonjj/Desktop/youtube_kr.csv\")"
   ]
  },
  {
   "cell_type": "code",
   "execution_count": null,
   "id": "c254b114",
   "metadata": {},
   "outputs": [],
   "source": []
  },
  {
   "cell_type": "markdown",
   "id": "dc98dc0e",
   "metadata": {},
   "source": [
    "# 1. Analysis of Popularity Factors by Category and Channel"
   ]
  },
  {
   "cell_type": "markdown",
   "id": "11b3d30f",
   "metadata": {},
   "source": [
    "### 1.1 identifying averages of views, likes, dislikes, comment_count based on the category and channel"
   ]
  },
  {
   "cell_type": "code",
   "execution_count": 24,
   "id": "76f06321",
   "metadata": {},
   "outputs": [
    {
     "name": "stdout",
     "output_type": "stream",
     "text": [
      "            category          views        likes   dislikes  comment_count\n",
      "1             Comedy  149977.714080  2826.359195  84.619253     968.472701\n",
      "14            Sports  123585.458861   687.262658  42.601266     273.905063\n",
      "16   Travel & Events  114205.270270   966.621622  54.135135     327.972973\n",
      "11    Pets & Animals  112859.316327  3426.319728  35.595238     618.149660\n",
      "4   Film & Animation  107566.575325  1285.010390  48.774026     437.958442\n"
     ]
    }
   ],
   "source": [
    "import pandas as pd\n",
    "import matplotlib.pyplot as plt\n",
    "import seaborn as sns\n",
    "\n",
    "# calculate averages of views, likes, dislikes, comment_count\n",
    "\n",
    "category_stats = df.groupby('category').agg({\n",
    "    'views': 'mean',\n",
    "    'likes': 'mean',\n",
    "    'dislikes': 'mean',\n",
    "    'comment_count': 'mean'\n",
    "}).reset_index()\n",
    "\n",
    "\n",
    "# Identify Top Categories by Sorting in Descending Order of Average View Count\n",
    "category_stats = category_stats.sort_values(by='views', ascending=False)\n",
    "print(category_stats.head())\n"
   ]
  },
  {
   "cell_type": "code",
   "execution_count": null,
   "id": "9b92f16d",
   "metadata": {},
   "outputs": [],
   "source": []
  },
  {
   "cell_type": "code",
   "execution_count": 25,
   "id": "08531b0a",
   "metadata": {},
   "outputs": [
    {
     "data": {
      "image/png": "[encoded data removed]",
      "text/plain": [
       "<Figure size 864x432 with 1 Axes>"
      ]
     },
     "metadata": {
      "needs_background": "light"
     },
     "output_type": "display_data"
    },
    {
     "data": {
      "image/png": "[encoded data removed]",
      "text/plain": [
       "<Figure size 864x432 with 1 Axes>"
      ]
     },
     "metadata": {
      "needs_background": "light"
     },
     "output_type": "display_data"
    }
   ],
   "source": [
    "# Visualize Category-wise Differences in View Count and Like Count Using a Bar Chart\n",
    "plt.figure(figsize=(12, 6))\n",
    "sns.barplot(data=category_stats, x='category', y='views')\n",
    "plt.xticks(rotation=45)\n",
    "plt.title('Average Views per Category')\n",
    "plt.ylabel('Average Views')\n",
    "plt.xlabel('Category')\n",
    "plt.show()\n",
    "\n",
    "# Visualization of Like Counts\n",
    "plt.figure(figsize=(12, 6))\n",
    "sns.barplot(data=category_stats, x='category', y='likes')\n",
    "plt.xticks(rotation=45)\n",
    "plt.title('Average Likes per Category')\n",
    "plt.ylabel('Average Likes')\n",
    "plt.xlabel('Category')\n",
    "plt.show()\n"
   ]
  },
  {
   "cell_type": "markdown",
   "id": "b3e6a126",
   "metadata": {},
   "source": [
    "### 1.2 See those differences are statistically significant by doing ANOVA "
   ]
  },
  {
   "cell_type": "code",
   "execution_count": 26,
   "id": "9cb3dc1c",
   "metadata": {},
   "outputs": [
    {
     "name": "stdout",
     "output_type": "stream",
     "text": [
      "ANOVA result: F_onewayResult(statistic=61.34596353508163, pvalue=7.32886847743645e-192)\n"
     ]
    }
   ],
   "source": [
    "from scipy.stats import f_oneway\n",
    "\n",
    "# Group View Count Data by Category to Create a List for ANOVA\n",
    "category_views = [df[df['category'] == category]['views'].values for category in df['category'].unique()]\n",
    "\n",
    "# ANOVA\n",
    "anova_result = f_oneway(*category_views)\n",
    "print(\"ANOVA result:\", anova_result)\n"
   ]
  },
  {
   "cell_type": "markdown",
   "id": "a45955ee",
   "metadata": {},
   "source": [
    "#### because p-value is way below 0.05, we can say that the difference is significant"
   ]
  },
  {
   "cell_type": "code",
   "execution_count": null,
   "id": "8612b3fb",
   "metadata": {},
   "outputs": [],
   "source": []
  },
  {
   "cell_type": "code",
   "execution_count": null,
   "id": "7fe9e621",
   "metadata": {},
   "outputs": [],
   "source": []
  },
  {
   "cell_type": "code",
   "execution_count": null,
   "id": "dc2c12b3",
   "metadata": {},
   "outputs": [],
   "source": []
  },
  {
   "cell_type": "markdown",
   "id": "78caba5f",
   "metadata": {},
   "source": [
    "### 1.3 Because the difference is statistically significant, we need to figure out which category is more contribute to the outcome by using \"Tukey's HSD test\""
   ]
  },
  {
   "cell_type": "code",
   "execution_count": 27,
   "id": "326791c4",
   "metadata": {
    "scrolled": true
   },
   "outputs": [
    {
     "name": "stdout",
     "output_type": "stream",
     "text": [
      "                      Multiple Comparison of Means - Tukey HSD, FWER=0.05                      \n",
      "===============================================================================================\n",
      "        group1                group2          meandiff   p-adj     lower        upper    reject\n",
      "-----------------------------------------------------------------------------------------------\n",
      "     Autos & Vehicles                Comedy   83185.1985    0.0   48264.4665 118105.9304   True\n",
      "     Autos & Vehicles             Education  -16133.3004 0.9896  -54044.6879  21778.0871  False\n",
      "     Autos & Vehicles         Entertainment   34503.3659 0.0385     779.8558  68226.8759   True\n",
      "     Autos & Vehicles      Film & Animation   40774.0597 0.0058    5994.9208  75553.1986   True\n",
      "     Autos & Vehicles                Gaming   14253.8158 0.9943  -21187.5448  49695.1764  False\n",
      "     Autos & Vehicles         Howto & Style   21859.7012 0.8506  -15995.5334  59714.9358  False\n",
      "     Autos & Vehicles                 Music   27593.5067 0.3557   -7759.8988  62946.9123  False\n",
      "     Autos & Vehicles       News & Politics    9784.9902 0.9999  -23927.8268  43497.8072  False\n",
      "     Autos & Vehicles Nonprofits & Activism  -33611.6004 0.2901  -75114.2527    7891.052  False\n",
      "     Autos & Vehicles        People & Blogs    8924.1794    1.0  -24828.3775  42676.7364  False\n",
      "     Autos & Vehicles        Pets & Animals   46066.8007 0.0019    9190.3588  82943.2426   True\n",
      "     Autos & Vehicles  Science & Technology   16971.9288 0.9999  -44378.8353   78322.693  False\n",
      "     Autos & Vehicles                 Shows    3963.4983    1.0  -41965.2245   49892.221  False\n",
      "     Autos & Vehicles                Sports   56792.9432    0.0   20146.7034   93439.183   True\n",
      "     Autos & Vehicles              Trailers  -53338.5156    1.0  -322763.484 216086.4528  False\n",
      "     Autos & Vehicles       Travel & Events   47412.7546 0.1981   -7800.1998 102625.7091  False\n",
      "               Comedy             Education  -99318.4988    0.0  -119890.278 -78746.7197   True\n",
      "               Comedy         Entertainment  -48681.8326    0.0  -59781.3788 -37582.2864   True\n",
      "               Comedy      Film & Animation  -42411.1388    0.0  -56393.7458 -28428.5317   True\n",
      "               Comedy                Gaming  -68931.3827    0.0  -84488.2088 -53374.5566   True\n",
      "               Comedy         Howto & Style  -61325.4973    0.0  -81793.6086 -40857.3859   True\n",
      "               Comedy                 Music  -55591.6917    0.0  -70947.0843 -40236.2991   True\n",
      "               Comedy       News & Politics  -73400.2083    0.0  -84467.2235 -62333.1931   True\n",
      "               Comedy Nonprofits & Activism -116796.7988    0.0 -143412.4887 -90181.1089   True\n",
      "               Comedy        People & Blogs   -74261.019    0.0  -85448.5073 -63073.5307   True\n",
      "               Comedy        Pets & Animals  -37118.3978    0.0  -55714.0091 -18522.7864   True\n",
      "               Comedy  Science & Technology  -66213.2696 0.0015 -118652.1966 -13774.3427   True\n",
      "               Comedy                 Shows  -79221.7002    0.0 -112318.1104 -46125.2899   True\n",
      "               Comedy                Sports  -26392.2552 0.0001   -44527.075  -8257.4354   True\n",
      "               Comedy              Trailers -136523.7141 0.9421 -404060.1385 131012.7103  False\n",
      "               Comedy       Travel & Events  -35772.4438 0.3266  -80876.7134   9331.8258  False\n",
      "            Education         Entertainment   50636.6662    0.0   32170.0557  69103.2768   True\n",
      "            Education      Film & Animation   56907.3601    0.0   36576.8638  77237.8563   True\n",
      "            Education                Gaming   30387.1161 0.0001    8943.4547  51830.7776   True\n",
      "            Education         Howto & Style   37993.0016    0.0   12758.9103  63227.0928   True\n",
      "            Education                 Music   43726.8071    0.0   22428.8293  65024.7849   True\n",
      "            Education       News & Politics   25918.2906 0.0002    7471.2148  44365.3663   True\n",
      "            Education Nonprofits & Activism     -17478.3 0.8561  -47912.0104  12955.4104  False\n",
      "            Education        People & Blogs   25057.4798 0.0004    6537.8774  43577.0822   True\n",
      "            Education        Pets & Animals   62200.1011    0.0   38459.5758  85940.6264   True\n",
      "            Education  Science & Technology   33105.2292 0.7913  -21370.9751  87581.4335  False\n",
      "            Education                 Shows   20096.7986 0.8881  -16141.1393  56334.7366  False\n",
      "            Education                Sports   72926.2436    0.0   49544.8949  96307.5923   True\n",
      "            Education              Trailers  -37205.2152    1.0 -305148.4073 230737.9768  False\n",
      "            Education       Travel & Events    63546.055 0.0005   16088.5907 111003.5193   True\n",
      "        Entertainment      Film & Animation    6270.6938 0.8291    -4375.005  16916.3927  False\n",
      "        Entertainment                Gaming  -20249.5501    0.0  -32892.0358  -7607.0644   True\n",
      "        Entertainment         Howto & Style  -12643.6647 0.5915  -30994.7188   5707.3894  False\n",
      "        Entertainment                 Music   -6909.8591 0.8836  -19303.6353    5483.917  False\n",
      "        Entertainment       News & Politics  -24718.3757    0.0  -31066.3226 -18370.4287   True\n",
      "        Entertainment Nonprofits & Activism  -68114.9662    0.0  -93139.2056 -43090.7269   True\n",
      "        Entertainment        People & Blogs  -25579.1864    0.0  -32134.9092 -19023.4637   True\n",
      "        Entertainment        Pets & Animals   11563.4348 0.5296   -4672.7706  27799.6403  False\n",
      "        Entertainment  Science & Technology   -17531.437 0.9992  -69180.8191   34117.945  False\n",
      "        Entertainment                 Shows  -30539.8676 0.0772  -62370.5129   1290.7776  False\n",
      "        Entertainment                Sports   22289.5774 0.0001    6583.2317   37995.923   True\n",
      "        Entertainment              Trailers  -87841.8815 0.9995 -355224.6708 179540.9078  False\n",
      "        Entertainment       Travel & Events   12909.3888 0.9999  -31274.4628  57093.2404  False\n",
      "     Film & Animation                Gaming  -26520.2439    0.0  -41756.5761 -11283.9118   True\n",
      "     Film & Animation         Howto & Style  -18914.3585 0.0987  -39139.9502   1311.2332  False\n",
      "     Film & Animation                 Music   -13180.553 0.1697  -28211.1571   1850.0512  False\n",
      "     Film & Animation       News & Politics  -30989.0695    0.0  -41600.8462 -20377.2928   True\n",
      "     Film & Animation Nonprofits & Activism  -74385.6601    0.0 -100815.3012  -47956.019   True\n",
      "     Film & Animation        People & Blogs  -31849.8803    0.0  -42587.2391 -21112.5214   True\n",
      "     Film & Animation        Pets & Animals     5292.741 0.9999  -13035.5907  23621.0727  False\n",
      "     Film & Animation  Science & Technology  -23802.1309 0.9797  -76146.8731  28542.6113  False\n",
      "     Film & Animation                 Shows  -36810.5614 0.0121  -69757.5393  -3863.5836   True\n",
      "     Film & Animation                Sports   16018.8835  0.142   -1841.7623  33879.5293  False\n",
      "     Film & Animation              Trailers  -94112.5753 0.9988 -361630.5548 173405.4042  False\n",
      "     Film & Animation       Travel & Events    6638.6949    1.0  -38356.0394  51633.4293  False\n",
      "               Gaming         Howto & Style    7605.8854 0.9986  -13738.3433  28950.1142  False\n",
      "               Gaming                 Music    13339.691 0.2936    -3165.478  29844.8599  False\n",
      "               Gaming       News & Politics   -4468.8256 0.9987  -17082.7601    8145.109  False\n",
      "               Gaming Nonprofits & Activism  -47865.4161    0.0  -75160.6074 -20570.2248   True\n",
      "               Gaming        People & Blogs   -5329.6363 0.9912   -18049.401   7390.1284  False\n",
      "               Gaming        Pets & Animals   31812.9849    0.0   12257.1858  51368.7841   True\n",
      "               Gaming  Science & Technology    2718.1131    1.0  -50068.9457  55505.1719  False\n",
      "               Gaming                 Shows  -10290.3175 0.9998  -43935.5979  23354.9629  False\n",
      "               Gaming                Sports   42539.1275    0.0   23420.9631  61657.2918   True\n",
      "               Gaming              Trailers  -67592.3314    1.0 -335197.2097 200012.5469  False\n",
      "               Gaming       Travel & Events   33158.9389  0.486   -12349.606  78667.4838  False\n",
      "        Howto & Style                 Music    5733.8055    1.0  -15464.0562  26931.6673  False\n",
      "        Howto & Style       News & Politics   -12074.711 0.6708  -30406.1072   6256.6852  False\n",
      "        Howto & Style Nonprofits & Activism  -55471.3016    0.0  -85835.0334 -25107.5697   True\n",
      "        Howto & Style        People & Blogs  -12935.5217 0.5545  -31339.9005    5468.857  False\n",
      "        Howto & Style        Pets & Animals   24207.0995 0.0383     556.3485  47857.8505   True\n",
      "        Howto & Style  Science & Technology   -4887.7724    1.0  -59324.9134  49549.3686  False\n",
      "        Howto & Style                 Shows  -17896.2029 0.9558  -54075.3908  18282.9849  False\n",
      "        Howto & Style                Sports    34933.242    0.0    11643.052  58223.4321   True\n",
      "        Howto & Style              Trailers  -75198.2168 0.9999 -343133.4695 192737.0359  False\n",
      "        Howto & Style       Travel & Events   25553.0535 0.9099  -21859.5651   72965.672  False\n",
      "                Music       News & Politics  -17808.5165 0.0001  -30173.1673  -5443.8658   True\n",
      "                Music Nonprofits & Activism  -61205.1071    0.0  -88385.9958 -34024.2184   True\n",
      "                Music        People & Blogs  -18669.3273    0.0  -31141.9235   -6196.731   True\n",
      "                Music        Pets & Animals    18473.294  0.083     -922.647  37869.2349  False\n",
      "                Music  Science & Technology  -10621.5779    1.0  -63349.6238   42106.468  False\n",
      "                Music                 Shows  -23630.0085 0.5507  -57182.6258   9922.6089  False\n",
      "                Music                Sports   29199.4365    0.0   10244.8209  48154.0521   True\n",
      "                Music              Trailers  -80932.0223 0.9998 -348525.2662 186661.2215  False\n",
      "                Music       Travel & Events   19819.2479 0.9866  -25620.8324  65259.3283  False\n",
      "      News & Politics Nonprofits & Activism  -43396.5906    0.0  -68406.4177 -18386.7634   True\n",
      "      News & Politics        People & Blogs    -860.8107    1.0   -7361.3031   5639.6816  False\n",
      "      News & Politics        Pets & Animals   36281.8105    0.0   20067.8268  52495.7942   True\n",
      "      News & Politics  Science & Technology    7186.9386    1.0  -44455.4622  58829.3395  False\n",
      "      News & Politics                 Shows   -5821.4919    1.0   -37640.808  25997.8242  False\n",
      "      News & Politics                Sports    47007.953    0.0   31324.5799  62691.3262   True\n",
      "      News & Politics              Trailers  -63123.5058    1.0 -330504.9466  204257.935  False\n",
      "      News & Politics       Travel & Events   37627.7645 0.2098   -6547.9262  81803.4551  False\n",
      "Nonprofits & Activism        People & Blogs   42535.7798    0.0   17472.4096    67599.15   True\n",
      "Nonprofits & Activism        Pets & Animals   79678.4011    0.0   50544.0675 108812.7346   True\n",
      "Nonprofits & Activism  Science & Technology   50583.5292 0.1554   -6450.2651 107617.3234  False\n",
      "Nonprofits & Activism                 Shows   37575.0986 0.0942   -2404.7088  77554.9061  False\n",
      "Nonprofits & Activism                Sports   90404.5436    0.0   61562.1387 119246.9485   True\n",
      "Nonprofits & Activism              Trailers  -19726.9153    1.0 -288201.7763 248747.9458  False\n",
      "Nonprofits & Activism       Travel & Events    81024.355    0.0   30651.6663 131397.0437   True\n",
      "       People & Blogs        Pets & Animals   37142.6213    0.0   20846.1696   53439.073   True\n",
      "       People & Blogs  Science & Technology    8047.7494    1.0   -43620.603  59716.1017  False\n",
      "       People & Blogs                 Shows   -4960.6812    1.0   -36822.099  26900.7367  False\n",
      "       People & Blogs                Sports   47868.7638    0.0   32100.1474  63637.3802   True\n",
      "       People & Blogs              Trailers  -62262.6951    1.0 -329649.1494 205123.7593  False\n",
      "       People & Blogs       Travel & Events   38488.5752 0.1791   -5717.4506   82694.601  False\n",
      "       Pets & Animals  Science & Technology  -29094.8719  0.907  -82855.9684  24666.2246  False\n",
      "       Pets & Animals                 Shows  -42103.3024  0.004   -77257.062  -6949.5428   True\n",
      "       Pets & Animals                Sports   10726.1425 0.9554  -10936.8705  32389.1555  False\n",
      "       Pets & Animals              Trailers  -99405.3163 0.9977 -367204.0333 168393.4007  False\n",
      "       Pets & Animals       Travel & Events    1345.9539    1.0  -45288.8998  47980.8077  False\n",
      " Science & Technology                 Shows  -13008.4306    1.0  -73339.4434  47322.5823  False\n",
      " Science & Technology                Sports   39821.0144 0.4488  -13782.4409  93424.4698  False\n",
      " Science & Technology              Trailers  -70310.4444    1.0 -342560.6917 201939.8028  False\n",
      " Science & Technology       Travel & Events   30440.8258 0.9818  -37226.4031  98108.0548  False\n",
      "                Shows                Sports    52829.445    0.0   17917.2445  87741.6454   True\n",
      "                Shows              Trailers  -57302.0139    1.0  -326496.606 211892.5783  False\n",
      "                Shows       Travel & Events   43449.2564 0.3038  -10628.3285  97526.8413  False\n",
      "               Sports              Trailers -110131.4589 0.9927 -377898.5736 157635.6559  False\n",
      "               Sports       Travel & Events   -9380.1886    1.0  -55833.2241  37072.8469  False\n",
      "             Trailers       Travel & Events  100751.2703 0.9976 -170181.8418 371684.3823  False\n",
      "-----------------------------------------------------------------------------------------------\n"
     ]
    }
   ],
   "source": [
    "from statsmodels.stats.multicomp import pairwise_tukeyhsd\n",
    "\n",
    "# Tukey's HSD test\n",
    "tukey_result = pairwise_tukeyhsd(df['views'], df['category'])\n",
    "print(tukey_result)\n"
   ]
  },
  {
   "cell_type": "markdown",
   "id": "948e6e3c",
   "metadata": {},
   "source": [
    "## Conclusion for #1\n",
    "\n",
    "In this study, we analyzed view count differences across categories of popular YouTube videos to investigate which categories have the most substantial impact on driving high view counts. The results from the ANOVA analysis revealed that the differences in view counts across categories are statistically significant, indicating that certain types of content are more likely to attract higher view counts compared to others.\n",
    "\n",
    "Additionally, a Tukey HSD post-hoc test was conducted to examine specific category pairs with significant differences in view counts. The analysis showed that the Comedy category had the highest average view count and exhibited statistically significant differences from various other categories. This finding suggests a strong preference among YouTube users for Comedy content, highlighting that Comedy videos have a greater influence in generating higher view counts compared to other content types.\n",
    "\n",
    "Thus, prioritizing the Comedy category could be an effective strategy for maximizing view counts on YouTube. Furthermore, categories such as Sports and Travel & Events also recorded high average view counts, indicating that content within these categories has a relatively high potential for attracting views in addition to Comedy.\n",
    "\n",
    "Additional Insights and Strategy Recommendations\n",
    "\n",
    "Enhancing Comedy Content: Given Comedy’s positive impact on view counts, creating content that emphasizes humor and entertainment elements may be advantageous for increasing audience engagement.\n",
    "Combining Categories for Greater Appeal: By blending Comedy elements with top-performing categories like Sports or Travel & Events, creators may be able to generate even greater viewership. For example, content that combines comedy with sports themes could resonate strongly with viewers.\n",
    "Conclusion This analysis confirms that the Comedy category has the most significant influence on YouTube view counts, suggesting that Comedy content enjoys greater popularity relative to other categories. These findings provide practical strategic direction for YouTube content planners aiming to maximize view counts, underscoring the importance of considering the Comedy category when designing content strategies."
   ]
  },
  {
   "cell_type": "code",
   "execution_count": null,
   "id": "e8acd385",
   "metadata": {},
   "outputs": [],
   "source": []
  },
  {
   "cell_type": "code",
   "execution_count": 73,
   "id": "7c1b1d42",
   "metadata": {},
   "outputs": [
    {
     "name": "stdout",
     "output_type": "stream",
     "text": [
      "<class 'pandas.core.frame.DataFrame'>\n",
      "Index: 14172 entries, 0 to 34561\n",
      "Data columns (total 21 columns):\n",
      " #   Column               Non-Null Count  Dtype          \n",
      "---  ------               --------------  -----          \n",
      " 0   video_id             14172 non-null  object         \n",
      " 1   trending_date        14172 non-null  datetime64[ns] \n",
      " 2   title                14172 non-null  object         \n",
      " 3   channel_title        14172 non-null  object         \n",
      " 4   category             14172 non-null  object         \n",
      " 5   category_id          14172 non-null  object         \n",
      " 6   publish_time         14172 non-null  datetime64[ns] \n",
      " 7   tags                 14172 non-null  object         \n",
      " 8   views                14172 non-null  int64          \n",
      " 9   likes                14172 non-null  int64          \n",
      " 10  dislikes             14172 non-null  int64          \n",
      " 11  comment_count        14172 non-null  int64          \n",
      " 12  description          12645 non-null  object         \n",
      " 13  tag_count            14172 non-null  int64          \n",
      " 14  likes/views          14172 non-null  float64        \n",
      " 15  dislikes/views       14172 non-null  float64        \n",
      " 16  comment_count/views  14172 non-null  float64        \n",
      " 17  dislikes/likes       14172 non-null  float64        \n",
      " 18  title_length         14172 non-null  int64          \n",
      " 19  description_length   14172 non-null  int64          \n",
      " 20  treTime-pubTime      14172 non-null  timedelta64[ns]\n",
      "dtypes: datetime64[ns](2), float64(4), int64(7), object(7), timedelta64[ns](1)\n",
      "memory usage: 2.4+ MB\n"
     ]
    }
   ],
   "source": [
    "df.info()"
   ]
  },
  {
   "cell_type": "markdown",
   "id": "1f78125f",
   "metadata": {},
   "source": [
    "# 2. The effect of other variables ('views', 'title_length', 'description_length', 'tag_count')"
   ]
  },
  {
   "cell_type": "markdown",
   "id": "64e04369",
   "metadata": {},
   "source": [
    "### 2.1 Firstly, we need to see the basic relation between those variables using basic correlation"
   ]
  },
  {
   "cell_type": "code",
   "execution_count": 28,
   "id": "c0ab3dc9",
   "metadata": {},
   "outputs": [
    {
     "data": {
      "image/png": "[encoded data removed]",
      "text/plain": [
       "<Figure size 432x288 with 2 Axes>"
      ]
     },
     "metadata": {
      "needs_background": "light"
     },
     "output_type": "display_data"
    }
   ],
   "source": [
    "import seaborn as sns\n",
    "import matplotlib.pyplot as plt\n",
    "\n",
    "# select columns that we need\n",
    "correlation_data = df[['views', 'title_length', 'description_length', 'tag_count']]\n",
    "\n",
    "# calucate correlation and visualize\n",
    "correlation_matrix = correlation_data.corr()\n",
    "sns.heatmap(correlation_matrix, annot=True, cmap='coolwarm')\n",
    "plt.title(\"Correlation Matrix between Metadata and Views\")\n",
    "plt.show()\n"
   ]
  },
  {
   "cell_type": "code",
   "execution_count": null,
   "id": "c131fdab",
   "metadata": {},
   "outputs": [],
   "source": []
  },
  {
   "cell_type": "markdown",
   "id": "168ad6f2",
   "metadata": {},
   "source": [
    "### 2.2 For more detailed analysis, I did simple linear regression"
   ]
  },
  {
   "cell_type": "code",
   "execution_count": 29,
   "id": "0ba38ef0",
   "metadata": {
    "scrolled": false
   },
   "outputs": [
    {
     "name": "stdout",
     "output_type": "stream",
     "text": [
      "the result of regression (title_lengthand views):\n",
      "                             OLS Regression Results                            \n",
      "==============================================================================\n",
      "Dep. Variable:                  views   R-squared:                       0.000\n",
      "Model:                            OLS   Adj. R-squared:                 -0.000\n",
      "Method:                 Least Squares   F-statistic:                    0.2399\n",
      "Date:                Sat, 07 Dec 2024   Prob (F-statistic):              0.624\n",
      "Time:                        16:26:40   Log-Likelihood:            -1.8009e+05\n",
      "No. Observations:               14172   AIC:                         3.602e+05\n",
      "Df Residuals:                   14170   BIC:                         3.602e+05\n",
      "Df Model:                           1                                         \n",
      "Covariance Type:            nonrobust                                         \n",
      "================================================================================\n",
      "                   coef    std err          t      P>|t|      [0.025      0.975]\n",
      "--------------------------------------------------------------------------------\n",
      "const         8.913e+04   1611.456     55.309      0.000     8.6e+04    9.23e+04\n",
      "title_length    17.2764     35.271      0.490      0.624     -51.860      86.412\n",
      "==============================================================================\n",
      "Omnibus:                     2965.142   Durbin-Watson:                   1.756\n",
      "Prob(Omnibus):                  0.000   Jarque-Bera (JB):             5267.492\n",
      "Skew:                           1.363   Prob(JB):                         0.00\n",
      "Kurtosis:                       4.222   Cond. No.                         110.\n",
      "==============================================================================\n",
      "\n",
      "Notes:\n",
      "[1] Standard Errors assume that the covariance matrix of the errors is correctly specified.\n",
      "the result of regression (description_lengthand views):\n",
      "                             OLS Regression Results                            \n",
      "==============================================================================\n",
      "Dep. Variable:                  views   R-squared:                       0.011\n",
      "Model:                            OLS   Adj. R-squared:                  0.011\n",
      "Method:                 Least Squares   F-statistic:                     159.5\n",
      "Date:                Sat, 07 Dec 2024   Prob (F-statistic):           2.31e-36\n",
      "Time:                        16:26:40   Log-Likelihood:            -1.8001e+05\n",
      "No. Observations:               14172   AIC:                         3.600e+05\n",
      "Df Residuals:                   14170   BIC:                         3.600e+05\n",
      "Df Model:                           1                                         \n",
      "Covariance Type:            nonrobust                                         \n",
      "======================================================================================\n",
      "                         coef    std err          t      P>|t|      [0.025      0.975]\n",
      "--------------------------------------------------------------------------------------\n",
      "const               8.438e+04    795.232    106.110      0.000    8.28e+04    8.59e+04\n",
      "description_length    20.4572      1.620     12.628      0.000      17.282      23.633\n",
      "==============================================================================\n",
      "Omnibus:                     2953.899   Durbin-Watson:                   1.757\n",
      "Prob(Omnibus):                  0.000   Jarque-Bera (JB):             5249.339\n",
      "Skew:                           1.355   Prob(JB):                         0.00\n",
      "Kurtosis:                       4.243   Cond. No.                         585.\n",
      "==============================================================================\n",
      "\n",
      "Notes:\n",
      "[1] Standard Errors assume that the covariance matrix of the errors is correctly specified.\n",
      "the result of regression (tag_countand views):\n",
      "                             OLS Regression Results                            \n",
      "==============================================================================\n",
      "Dep. Variable:                  views   R-squared:                       0.018\n",
      "Model:                            OLS   Adj. R-squared:                  0.018\n",
      "Method:                 Least Squares   F-statistic:                     257.5\n",
      "Date:                Sat, 07 Dec 2024   Prob (F-statistic):           1.92e-57\n",
      "Time:                        16:26:40   Log-Likelihood:            -1.7996e+05\n",
      "No. Observations:               14172   AIC:                         3.599e+05\n",
      "Df Residuals:                   14170   BIC:                         3.599e+05\n",
      "Df Model:                           1                                         \n",
      "Covariance Type:            nonrobust                                         \n",
      "==============================================================================\n",
      "                 coef    std err          t      P>|t|      [0.025      0.975]\n",
      "------------------------------------------------------------------------------\n",
      "const       8.148e+04    845.052     96.418      0.000    7.98e+04    8.31e+04\n",
      "tag_count    541.7970     33.763     16.047      0.000     475.617     607.977\n",
      "==============================================================================\n",
      "Omnibus:                     2876.433   Durbin-Watson:                   1.751\n",
      "Prob(Omnibus):                  0.000   Jarque-Bera (JB):             5043.300\n",
      "Skew:                           1.329   Prob(JB):                         0.00\n",
      "Kurtosis:                       4.215   Cond. No.                         31.8\n",
      "==============================================================================\n",
      "\n",
      "Notes:\n",
      "[1] Standard Errors assume that the covariance matrix of the errors is correctly specified.\n"
     ]
    }
   ],
   "source": [
    "# simple Linear Regression\n",
    "\n",
    "import statsmodels.api as sm\n",
    "\n",
    "\n",
    "def simple_regression(x_var):\n",
    "    X = df[[x_var]]\n",
    "    X = sm.add_constant(X)  \n",
    "    y = df['views']\n",
    "    model = sm.OLS(y, X).fit()  \n",
    "    print(f\"the result of regression ({x_var}and views):\\n\", model.summary())\n",
    "\n",
    "# regressions analysis for each of the title_length, description_length, tag_count \n",
    "simple_regression('title_length')\n",
    "simple_regression('description_length')\n",
    "simple_regression('tag_count')\n"
   ]
  },
  {
   "cell_type": "markdown",
   "id": "a699c693",
   "metadata": {},
   "source": [
    "#### result for simple linear regression\n",
    "\n",
    "Views and Title Length\n",
    "R-squared: 0.000 (almost no correlation)\n",
    "Coefficient: 17.28 (not statistically significant, p-value = 0.624)\n",
    "Summary: title_length does not have a significant impact on views.\n",
    "Views and Description Length\n",
    "R-squared: 0.011 (very weak positive correlation)\n",
    "Coefficient: 20.46 (statistically significant, p-value < 0.001)\n",
    "Summary: Although description_length shows a slight positive trend with views, the effect is minimal.\n",
    "Views and Tag Count\n",
    "R-squared: 0.018 (weak positive correlation)\n",
    "Coefficient: 541.80 (statistically significant, p-value < 0.001)\n",
    "Summary: tag_count tends to increase with views, and among the three variables, it has the largest influence on views, though the impact remains modest.\n",
    "Overall Summary: None of the three variables strongly impacts views, as the R-squared values are low, indicating that the simple regression models have very limited explanatory power. While description_length and tag_count are statistically significant, their actual influence on views is weak."
   ]
  },
  {
   "cell_type": "code",
   "execution_count": null,
   "id": "57622124",
   "metadata": {},
   "outputs": [],
   "source": []
  },
  {
   "cell_type": "code",
   "execution_count": null,
   "id": "6d13e869",
   "metadata": {},
   "outputs": [],
   "source": []
  },
  {
   "cell_type": "markdown",
   "id": "ad685f37",
   "metadata": {},
   "source": [
    "### 2.3 To include more complex relationship, also did multiple regression analysis"
   ]
  },
  {
   "cell_type": "code",
   "execution_count": 30,
   "id": "234a776b",
   "metadata": {
    "scrolled": false
   },
   "outputs": [
    {
     "name": "stdout",
     "output_type": "stream",
     "text": [
      "result of multiple regression :\n",
      "                             OLS Regression Results                            \n",
      "==============================================================================\n",
      "Dep. Variable:                  views   R-squared:                       0.025\n",
      "Model:                            OLS   Adj. R-squared:                  0.025\n",
      "Method:                 Least Squares   F-statistic:                     122.8\n",
      "Date:                Sat, 07 Dec 2024   Prob (F-statistic):           1.57e-78\n",
      "Time:                        16:26:44   Log-Likelihood:            -1.7990e+05\n",
      "No. Observations:               14172   AIC:                         3.598e+05\n",
      "Df Residuals:                   14168   BIC:                         3.598e+05\n",
      "Df Model:                           3                                         \n",
      "Covariance Type:            nonrobust                                         \n",
      "======================================================================================\n",
      "                         coef    std err          t      P>|t|      [0.025      0.975]\n",
      "--------------------------------------------------------------------------------------\n",
      "const               8.089e+04   1649.056     49.053      0.000    7.77e+04    8.41e+04\n",
      "title_length         -76.2622     35.214     -2.166      0.030    -145.287      -7.238\n",
      "description_length    17.0793      1.642     10.399      0.000      13.860      20.299\n",
      "tag_count            489.6197     34.177     14.326      0.000     422.627     556.612\n",
      "==============================================================================\n",
      "Omnibus:                     2882.421   Durbin-Watson:                   1.752\n",
      "Prob(Omnibus):                  0.000   Jarque-Bera (JB):             5065.543\n",
      "Skew:                           1.329   Prob(JB):                         0.00\n",
      "Kurtosis:                       4.230   Cond. No.                     1.22e+03\n",
      "==============================================================================\n",
      "\n",
      "Notes:\n",
      "[1] Standard Errors assume that the covariance matrix of the errors is correctly specified.\n",
      "[2] The condition number is large, 1.22e+03. This might indicate that there are\n",
      "strong multicollinearity or other numerical problems.\n"
     ]
    }
   ],
   "source": [
    "# making title_length, description_length, tag_count as predictors\n",
    "X = df[['title_length', 'description_length', 'tag_count']]\n",
    "X = sm.add_constant(X)  # add intercept\n",
    "y = df['views']\n",
    "\n",
    "multiple_regression_model = sm.OLS(y, X).fit()\n",
    "print(\"result of multiple regression :\\n\", multiple_regression_model.summary())\n"
   ]
  },
  {
   "cell_type": "code",
   "execution_count": null,
   "id": "6c900d88",
   "metadata": {},
   "outputs": [],
   "source": []
  },
  {
   "cell_type": "markdown",
   "id": "0bddfdce",
   "metadata": {},
   "source": [
    "#### result for multiple linear regression\n",
    "\n",
    "In the correlation matrix of the correlation analysis, title_length, description_length, and tag_count all show a positive correlation with views, though the correlation coefficients are relatively low. The highest correlation coefficient is between tag_count and views, at 0.13, which indicates a weak positive correlation. This suggests that these metadata variables have only a minor impact on view counts.\n",
    "\n",
    "Simple Linear Regression Analysis:\n",
    "\n",
    "title_length and views: The R-squared value is 0.000, indicating that title_length has almost no effect on view counts. Additionally, the p-value is 0.624, which is not significant, suggesting that title_length does not contribute to predicting view counts.\n",
    "description_length and views: The R-squared value is 0.011, suggesting that description_length has a minor impact on view counts. Since the p-value is significantly low (p < 0.05), we can conclude that the effect of description_length on view counts is statistically significant.\n",
    "tag_count and views: The R-squared value is 0.018, meaning that tag_count has a slightly stronger effect on view counts. The p-value is also significantly low (p < 0.05), indicating that tag_count has a statistically significant effect on view counts.\n",
    "Multiple Regression Analysis:\n",
    "\n",
    "Overall model explanation (R-squared): The R-squared value of the multiple regression model is 0.025, which indicates that these three variables collectively explain approximately 2.5% of the variance in view counts. This low explanatory power suggests that metadata has limited impact on view counts.\n",
    "Significance of each variable:\n",
    "title_length: With a p-value of 0.03, it shows a weak level of significance and has a negative coefficient value of -76.2622, suggesting that as the title length increases, views may slightly decrease.\n",
    "description_length: With a p-value of 0.000, it has a statistically significant effect on views, with a positive coefficient of 17.0793, indicating that longer descriptions tend to increase view counts.\n",
    "tag_count: With a p-value of 0.000, it also shows a significant effect on views, with a positive coefficient of 489.6197, suggesting that a higher number of tags is associated with increased view counts.\n",
    "Final Interpretation: Both description_length and tag_count have significant positive effects on view counts, meaning that videos with longer descriptions and more tags are likely to receive higher view counts. However, title_length has a minimal effect on views, and in the multiple regression analysis, it even shows a slight negative impact, implying that excessively long titles may not be beneficial. The low R-squared value indicates that metadata variables alone cannot sufficiently predict view counts, suggesting that other factors (such as content topic, watch time, etc.) may also need to be considered.\n",
    "\n",
    "Based on these findings, focusing on creating rich descriptions and using a sufficient number of tags may help increase view counts. Additionally, optimizing title length rather than extending it excessively could improve the approach."
   ]
  },
  {
   "cell_type": "code",
   "execution_count": null,
   "id": "57d058c6",
   "metadata": {},
   "outputs": [],
   "source": []
  },
  {
   "cell_type": "code",
   "execution_count": 33,
   "id": "1a6f6481",
   "metadata": {},
   "outputs": [],
   "source": [
    "df.to_csv(\"/Users/jeonjj/Desktop/youtubeKR.csv\")"
   ]
  },
  {
   "cell_type": "code",
   "execution_count": 36,
   "id": "a3f3e14e",
   "metadata": {},
   "outputs": [
    {
     "data": {
      "text/html": [
       "<div>\n",
       "<style scoped>\n",
       "    .dataframe tbody tr th:only-of-type {\n",
       "        vertical-align: middle;\n",
       "    }\n",
       "\n",
       "    .dataframe tbody tr th {\n",
       "        vertical-align: top;\n",
       "    }\n",
       "\n",
       "    .dataframe thead th {\n",
       "        text-align: right;\n",
       "    }\n",
       "</style>\n",
       "<table border=\"1\" class=\"dataframe\">\n",
       "  <thead>\n",
       "    <tr style=\"text-align: right;\">\n",
       "      <th></th>\n",
       "      <th>video_id</th>\n",
       "      <th>trending_date</th>\n",
       "      <th>title</th>\n",
       "      <th>channel_title</th>\n",
       "      <th>category</th>\n",
       "      <th>category_id</th>\n",
       "      <th>publish_time</th>\n",
       "      <th>tags</th>\n",
       "      <th>views</th>\n",
       "      <th>likes</th>\n",
       "      <th>...</th>\n",
       "      <th>tag_count</th>\n",
       "      <th>likes/views</th>\n",
       "      <th>dislikes/views</th>\n",
       "      <th>comment_count/views</th>\n",
       "      <th>dislikes/likes</th>\n",
       "      <th>title_length</th>\n",
       "      <th>description_length</th>\n",
       "      <th>treTime-pubTime</th>\n",
       "      <th>days_to_trend</th>\n",
       "      <th>trend_speed_group</th>\n",
       "    </tr>\n",
       "  </thead>\n",
       "  <tbody>\n",
       "  </tbody>\n",
       "</table>\n",
       "<p>0 rows × 23 columns</p>\n",
       "</div>"
      ],
      "text/plain": [
       "Empty DataFrame\n",
       "Columns: [video_id, trending_date, title, channel_title, category, category_id, publish_time, tags, views, likes, dislikes, comment_count, description, tag_count, likes/views, dislikes/views, comment_count/views, dislikes/likes, title_length, description_length, treTime-pubTime, days_to_trend, trend_speed_group]\n",
       "Index: []\n",
       "\n",
       "[0 rows x 23 columns]"
      ]
     },
     "execution_count": 36,
     "metadata": {},
     "output_type": "execute_result"
    }
   ],
   "source": []
  },
  {
   "cell_type": "markdown",
   "id": "ed36a26e",
   "metadata": {},
   "source": [
    "# 3. Time until a video becomes trending content"
   ]
  },
  {
   "cell_type": "code",
   "execution_count": 31,
   "id": "b256c009",
   "metadata": {},
   "outputs": [
    {
     "name": "stdout",
     "output_type": "stream",
     "text": [
      "  trend_speed_group         views\n",
      "0      Within 1 day           NaN\n",
      "1          1-3 days  90867.143581\n",
      "2          3-7 days  88458.975514\n",
      "3    7 days or more  53380.917197\n",
      "Correlation between trending speed and view count:\n",
      "                days_to_trend     views\n",
      "days_to_trend       1.000000 -0.015357\n",
      "views              -0.015357  1.000000\n"
     ]
    },
    {
     "name": "stderr",
     "output_type": "stream",
     "text": [
      "/var/folders/c7/3twkz4l56717vzlzq7l2yhzh0000gn/T/ipykernel_73098/3681948308.py:15: FutureWarning: The default of observed=False is deprecated and will be changed to True in a future version of pandas. Pass observed=False to retain current behavior or observed=True to adopt the future default and silence this warning.\n",
      "  grouped_views = df.groupby('trend_speed_group')['views'].mean().reset_index()\n",
      "/Library/Frameworks/Python.framework/Versions/3.10/lib/python3.10/site-packages/seaborn/categorical.py:641: FutureWarning: The default of observed=False is deprecated and will be changed to True in a future version of pandas. Pass observed=False to retain current behavior or observed=True to adopt the future default and silence this warning.\n",
      "  grouped_vals = vals.groupby(grouper)\n"
     ]
    },
    {
     "data": {
      "image/png": "[encoded data removed]",
      "text/plain": [
       "<Figure size 720x432 with 1 Axes>"
      ]
     },
     "metadata": {
      "needs_background": "light"
     },
     "output_type": "display_data"
    }
   ],
   "source": [
    "import pandas as pd\n",
    "import matplotlib.pyplot as plt\n",
    "import seaborn as sns\n",
    "\n",
    "# 1. Convert `treTime-pubTime` to days and add a new column\n",
    "df['days_to_trend'] = df['treTime-pubTime'].dt.days\n",
    "\n",
    "# 2. Group by `days_to_trend` to calculate average views within specific time intervals\n",
    "# Example: within 1 day, 1-3 days, 3-7 days, 7 days and beyond\n",
    "bins = [0, 1, 3, 7, df['days_to_trend'].max()]  # Define time intervals\n",
    "labels = ['Within 1 day', '1-3 days', '3-7 days', '7 days or more']  # Labels for each interval\n",
    "df['trend_speed_group'] = pd.cut(df['days_to_trend'], bins=bins, labels=labels, right=False)\n",
    "\n",
    "# Calculate the average views for each group\n",
    "grouped_views = df.groupby('trend_speed_group')['views'].mean().reset_index()\n",
    "print(grouped_views)\n",
    "\n",
    "# 3. Correlation analysis\n",
    "correlation = df[['days_to_trend', 'views']].corr()\n",
    "print(\"Correlation between trending speed and view count:\\n\", correlation)\n",
    "\n",
    "# 4. Visualization: Visualize average views for each trend speed group\n",
    "plt.figure(figsize=(10, 6))\n",
    "sns.barplot(data=grouped_views, x='trend_speed_group', y='views')\n",
    "plt.title(\"Average Views by Trending Speed Group\")\n",
    "plt.xlabel(\"Trending Speed Group\")\n",
    "plt.ylabel(\"Average Views\")\n",
    "plt.show()\n"
   ]
  },
  {
   "cell_type": "markdown",
   "id": "b9d17f14",
   "metadata": {},
   "source": [
    "### result for #3\n",
    "\n",
    "\n",
    "#### description\n",
    "* Average Views by Group Analysis: The average view count is highest in the 1-3 day group, with approximately 90,867 views, followed by the 3-7 day group (88,458 views), and then the 7 days or more group (53,380 views). The \"Within 1 day\" group has a value of NaN, indicating that there is no data for videos that trended within 1 day, suggesting that no videos in the dataset reached trending status within a day.\n",
    "\n",
    "* Correlation Between Trending Speed and View Count: The correlation coefficient between days_to_trend and views is -0.015357, showing a very weak negative correlation. This suggests that the shorter the time to trend, the slightly higher the view count tends to be, although the impact is minimal.\n",
    "\n",
    "#### Interpretation\n",
    "1) Relationship Between Trending Speed and View Count: Videos that trend within 1-3 days or 3-7 days tend to achieve relatively higher average view counts, whereas those taking 7 days or more to trend have lower view counts. This implies that faster trending may be associated with higher view counts, although, as indicated by the low correlation coefficient, this effect is quite limited.\n",
    "\n",
    "2) Strengthening Initial Promotion Strategy: Given that a faster trending speed could potentially have a positive effect on view counts, strengthening the initial promotion strategy may be beneficial. In particular, implementing strategies that encourage initial engagement and reaction within 1-3 days after posting could help increase view counts.\n",
    "\n",
    "#### Conclusion\n",
    "This analysis helps clarify the relationship between trending speed and view count, suggesting that reaching trending status quickly may be advantageous for maximizing views. However, given the low correlation coefficient, other factors beyond trending speed likely play a significant role in driving view counts. Further analysis, such as multiple regression analysis, could examine the combined effects of other factors (like category, like-to-view ratio, etc.) along with trending speed on view counts.\n",
    "\n",
    "\n",
    "\n",
    "\n",
    "\n",
    "\n"
   ]
  },
  {
   "cell_type": "code",
   "execution_count": null,
   "id": "0ef9550e",
   "metadata": {},
   "outputs": [],
   "source": []
  },
  {
   "cell_type": "code",
   "execution_count": null,
   "id": "64a4ab4e",
   "metadata": {},
   "outputs": [],
   "source": []
  },
  {
   "cell_type": "code",
   "execution_count": 79,
   "id": "cbf2bd5b",
   "metadata": {},
   "outputs": [
    {
     "name": "stdout",
     "output_type": "stream",
     "text": [
      "<class 'pandas.core.frame.DataFrame'>\n",
      "Index: 14172 entries, 0 to 34561\n",
      "Data columns (total 23 columns):\n",
      " #   Column               Non-Null Count  Dtype          \n",
      "---  ------               --------------  -----          \n",
      " 0   video_id             14172 non-null  object         \n",
      " 1   trending_date        14172 non-null  datetime64[ns] \n",
      " 2   title                14172 non-null  object         \n",
      " 3   channel_title        14172 non-null  object         \n",
      " 4   category             14172 non-null  object         \n",
      " 5   category_id          14172 non-null  object         \n",
      " 6   publish_time         14172 non-null  datetime64[ns] \n",
      " 7   tags                 14172 non-null  object         \n",
      " 8   views                14172 non-null  int64          \n",
      " 9   likes                14172 non-null  int64          \n",
      " 10  dislikes             14172 non-null  int64          \n",
      " 11  comment_count        14172 non-null  int64          \n",
      " 12  description          12645 non-null  object         \n",
      " 13  tag_count            14172 non-null  int64          \n",
      " 14  likes/views          14172 non-null  float64        \n",
      " 15  dislikes/views       14172 non-null  float64        \n",
      " 16  comment_count/views  14172 non-null  float64        \n",
      " 17  dislikes/likes       14172 non-null  float64        \n",
      " 18  title_length         14172 non-null  int64          \n",
      " 19  description_length   14172 non-null  int64          \n",
      " 20  treTime-pubTime      14172 non-null  timedelta64[ns]\n",
      " 21  days_to_trend        14172 non-null  int64          \n",
      " 22  trend_speed_group    14171 non-null  category       \n",
      "dtypes: category(1), datetime64[ns](2), float64(4), int64(8), object(7), timedelta64[ns](1)\n",
      "memory usage: 2.5+ MB\n"
     ]
    }
   ],
   "source": [
    "df.info()"
   ]
  },
  {
   "cell_type": "code",
   "execution_count": null,
   "id": "a680a1c0",
   "metadata": {},
   "outputs": [],
   "source": []
  },
  {
   "cell_type": "code",
   "execution_count": null,
   "id": "27462d12",
   "metadata": {},
   "outputs": [],
   "source": []
  },
  {
   "cell_type": "markdown",
   "id": "71474f57",
   "metadata": {},
   "source": [
    "# 4. Overall Analysis : Put all the values together"
   ]
  },
  {
   "cell_type": "code",
   "execution_count": 32,
   "id": "0dc882a9",
   "metadata": {
    "scrolled": false
   },
   "outputs": [
    {
     "data": {
      "image/png": "[encoded data removed]",
      "text/plain": [
       "<Figure size 864x720 with 2 Axes>"
      ]
     },
     "metadata": {
      "needs_background": "light"
     },
     "output_type": "display_data"
    }
   ],
   "source": [
    "import pandas as pd\n",
    "import seaborn as sns\n",
    "import matplotlib.pyplot as plt\n",
    "import statsmodels.api as sm\n",
    "\n",
    "\n",
    "df_new = df[['views', 'likes', 'dislikes', 'comment_count', 'tag_count','likes/views','dislikes/views',\n",
    "            'comment_count/views', 'dislikes/likes', 'title_length', 'description_length']]\n",
    "\n",
    "# calculate correlation\n",
    "correlation_matrix = df_new.corr(method=\"pearson\")\n",
    "\n",
    "# create heatmap\n",
    "plt.figure(figsize=(12, 10))  \n",
    "sns.heatmap(correlation_matrix, annot=True, fmt=\".2f\", cmap=\"coolwarm\", linewidths=0.5)\n",
    "plt.title(\"Correlation Heatmap of YouTube Video Variables\")\n",
    "plt.show()\n"
   ]
  },
  {
   "cell_type": "markdown",
   "id": "555987a4",
   "metadata": {},
   "source": [
    "### description\n",
    "\n",
    "Average Views by Group Analysis: The average view count is highest in the 1-3 day group, with approximately 90,867 views, followed by the 3-7 day group (88,458 views), and then the 7 days or more group (53,380 views). The \"Within 1 day\" group has a value of NaN, indicating that there is no data for videos that trended within 1 day, suggesting that no videos in the dataset reached trending status within a day.\n",
    "\n",
    "Correlation Between Trending Speed and View Count: The correlation coefficient between days_to_trend and views is -0.015357, showing a very weak negative correlation. This suggests that the shorter the time to trend, the slightly higher the view count tends to be, although the impact is minimal.\n",
    "\n",
    "Interpretation\n",
    "\n",
    "Relationship Between Trending Speed and View Count: Videos that trend within 1-3 days or 3-7 days tend to achieve relatively higher average view counts, whereas those taking 7 days or more to trend have lower view counts. This implies that faster trending may be associated with higher view counts, although, as indicated by the low correlation coefficient, this effect is quite limited.\n",
    "Strengthening Initial Promotion Strategy: Given that a faster trending speed could potentially have a positive effect on view counts, strengthening the initial promotion strategy may be beneficial. In particular, implementing strategies that encourage initial engagement and reaction within 1-3 days after posting could help increase view counts.\n",
    "Conclusion\n",
    "\n",
    "This analysis helps clarify the relationship between trending speed and view count, suggesting that reaching trending status quickly may be advantageous for maximizing views. However, given the low correlation coefficient, other factors beyond trending speed likely play a significant role in driving view counts. Further analysis, such as multiple regression analysis, could examine the combined effects of other factors (like category, like-to-view ratio, etc.) along with trending speed on view counts.\n",
    "\n",
    "\n",
    "\n",
    "\n",
    "\n",
    "\n"
   ]
  },
  {
   "cell_type": "code",
   "execution_count": null,
   "id": "63883c43",
   "metadata": {},
   "outputs": [],
   "source": []
  },
  {
   "cell_type": "code",
   "execution_count": null,
   "id": "effacc53",
   "metadata": {},
   "outputs": [],
   "source": []
  },
  {
   "cell_type": "markdown",
   "id": "6019e507",
   "metadata": {},
   "source": [
    "# 5. Conclusion Until Now"
   ]
  },
  {
   "cell_type": "markdown",
   "id": "92ba2892",
   "metadata": {},
   "source": [
    "### 1. Views as the Primary Focus\n",
    "When views are set as the primary objective, the analysis reveals that the most influential factors for increasing view counts are:\n",
    "\n",
    "* User Engagement Metrics: Likes, dislikes, and comment count show the strongest correlations with view counts. Videos with more likes and comments tend to have higher views, suggesting that engagement metrics directly influence viewership.\n",
    "\n",
    "* Category: Certain categories, such as Comedy, have a notable impact on views. This indicates that some genres are inherently more likely to attract viewership due to their popularity or the entertainment value they provide.\n",
    "\n",
    "* Trending Speed: There is a weak positive correlation between how quickly a video trends and its view count, suggesting that while trending speed can contribute to views, it is not the primary driver.\n",
    "On the other hand, variables like title length, description length, and tag count have a relatively low influence on views, meaning that simply increasing or modifying these elements is unlikely to significantly boost viewership.\n",
    "\n",
    "\n",
    "### 2. Factors Influencing the Key Drivers of Views\n",
    "Since the key drivers of views are user engagement metrics (likes, dislikes, and comment count), it’s essential to identify what influences these specific metrics:\n",
    "\n",
    "* Likes: To increase likes, the following factors may be influential:\n",
    "* Category: Some categories inherently draw more positive reactions; for example, entertainment and informative content often receive more likes.\n",
    "* Tag Count: Videos with a higher tag count may be more discoverable, leading to a broader audience and potentially more likes.\n",
    "* Title and Description: Compelling titles and clear descriptions can attract attention and motivate viewers to like the content.\n",
    "* Dislikes: Dislikes are often influenced by:\n",
    "* View Count: As videos gain more views, they also tend to accumulate more dislikes, possibly due to reaching a diverse audience with varied opinions.\n",
    "* Category and Video Length: Controversial or sensitive topics may draw more dislikes, and longer videos may lose viewer interest, leading to increased dislikes.\n",
    "* Comment Count: To encourage more comments, the following aspects are effective:\n",
    "* Category: Certain topics naturally invite discussion, especially those that provoke thought or emotion.\n",
    "* Video Content: Videos that ask questions or encourage feedback typically have a higher comment count as viewers are prompted to engage.\n",
    "* Trending Speed: Videos that trend quickly often have high comment engagement due to the immediate attention they receive.\n",
    "\n",
    "### 3. Comprehensive Strategy for Managing Key Engagement Metrics\n",
    "To effectively manage and boost view counts, it’s crucial to focus on the underlying engagement metrics (likes, dislikes, and comments) and the factors that drive them:\n",
    "\n",
    "1) Content Strategy: Prioritize categories that resonate with audiences, such as entertainment or educational content, to naturally increase engagement. Using popular tags can also help reach a wider audience.\n",
    "Encouraging Positive Engagement: Using titles and descriptions that draw attention, adding calls to action, and creating content that invites responses can significantly improve likes and comments.\n",
    "\n",
    "2) Monitoring Dislikes: Understanding and analyzing patterns in dislikes can provide insight into the types of content or formats that may need adjustment to better align with viewer expectations.\n",
    "\n",
    "\n",
    "#### Summary\n",
    "In conclusion, focusing on user engagement metrics—particularly likes, dislikes, and comment count—is essential for driving view counts effectively. Building a predictive model that includes these metrics and considers category influence would provide a robust framework for understanding and maximizing viewership. Managing and optimizing the factors influencing engagement will ultimately lead to a stronger impact on views.\n",
    "\n",
    "\n",
    "\n",
    "\n",
    "\n",
    "\n"
   ]
  }
 ],
 "metadata": {
  "kernelspec": {
   "display_name": "Python 3 (ipykernel)",
   "language": "python",
   "name": "python3"
  },
  "language_info": {
   "codemirror_mode": {
    "name": "ipython",
    "version": 3
   },
   "file_extension": ".py",
   "mimetype": "text/x-python",
   "name": "python",
   "nbconvert_exporter": "python",
   "pygments_lexer": "ipython3",
   "version": "3.10.4"
  }
 },
 "nbformat": 4,
 "nbformat_minor": 5
}
